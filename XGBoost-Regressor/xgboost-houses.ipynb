{
 "cells": [
  {
   "cell_type": "markdown",
   "id": "8ddf0c71-f87d-4c1e-9fb4-3530e636e772",
   "metadata": {
    "jp-MarkdownHeadingCollapsed": true,
    "tags": []
   },
   "source": [
    "# Carregamento da base de dados"
   ]
  },
  {
   "cell_type": "code",
   "execution_count": 21,
   "id": "3ad0a6b1-671a-4f37-bff4-b22baca1898d",
   "metadata": {
    "tags": []
   },
   "outputs": [],
   "source": [
    "import numpy as np\n",
    "import seaborn as sns\n",
    "%matplotlib inline\n",
    "import matplotlib.pyplot as plt\n",
    "import pandas as pd"
   ]
  },
  {
   "cell_type": "code",
   "execution_count": 22,
   "id": "0d1b97c1-03e2-466f-b4b2-3ff044ccc472",
   "metadata": {
    "tags": []
   },
   "outputs": [
    {
     "data": {
      "text/html": [
       "<div>\n",
       "<style scoped>\n",
       "    .dataframe tbody tr th:only-of-type {\n",
       "        vertical-align: middle;\n",
       "    }\n",
       "\n",
       "    .dataframe tbody tr th {\n",
       "        vertical-align: top;\n",
       "    }\n",
       "\n",
       "    .dataframe thead th {\n",
       "        text-align: right;\n",
       "    }\n",
       "</style>\n",
       "<table border=\"1\" class=\"dataframe\">\n",
       "  <thead>\n",
       "    <tr style=\"text-align: right;\">\n",
       "      <th></th>\n",
       "      <th>id</th>\n",
       "      <th>date</th>\n",
       "      <th>price</th>\n",
       "      <th>bedrooms</th>\n",
       "      <th>bathrooms</th>\n",
       "      <th>sqft_living</th>\n",
       "      <th>sqft_lot</th>\n",
       "      <th>floors</th>\n",
       "      <th>waterfront</th>\n",
       "      <th>view</th>\n",
       "      <th>...</th>\n",
       "      <th>grade</th>\n",
       "      <th>sqft_above</th>\n",
       "      <th>sqft_basement</th>\n",
       "      <th>yr_built</th>\n",
       "      <th>yr_renovated</th>\n",
       "      <th>zipcode</th>\n",
       "      <th>lat</th>\n",
       "      <th>long</th>\n",
       "      <th>sqft_living15</th>\n",
       "      <th>sqft_lot15</th>\n",
       "    </tr>\n",
       "  </thead>\n",
       "  <tbody>\n",
       "    <tr>\n",
       "      <th>0</th>\n",
       "      <td>7129300520</td>\n",
       "      <td>20141013T000000</td>\n",
       "      <td>221900.0</td>\n",
       "      <td>3</td>\n",
       "      <td>1.00</td>\n",
       "      <td>1180</td>\n",
       "      <td>5650</td>\n",
       "      <td>1.0</td>\n",
       "      <td>0</td>\n",
       "      <td>0</td>\n",
       "      <td>...</td>\n",
       "      <td>7</td>\n",
       "      <td>1180</td>\n",
       "      <td>0</td>\n",
       "      <td>1955</td>\n",
       "      <td>0</td>\n",
       "      <td>98178</td>\n",
       "      <td>47.5112</td>\n",
       "      <td>-122.257</td>\n",
       "      <td>1340</td>\n",
       "      <td>5650</td>\n",
       "    </tr>\n",
       "    <tr>\n",
       "      <th>1</th>\n",
       "      <td>6414100192</td>\n",
       "      <td>20141209T000000</td>\n",
       "      <td>538000.0</td>\n",
       "      <td>3</td>\n",
       "      <td>2.25</td>\n",
       "      <td>2570</td>\n",
       "      <td>7242</td>\n",
       "      <td>2.0</td>\n",
       "      <td>0</td>\n",
       "      <td>0</td>\n",
       "      <td>...</td>\n",
       "      <td>7</td>\n",
       "      <td>2170</td>\n",
       "      <td>400</td>\n",
       "      <td>1951</td>\n",
       "      <td>1991</td>\n",
       "      <td>98125</td>\n",
       "      <td>47.7210</td>\n",
       "      <td>-122.319</td>\n",
       "      <td>1690</td>\n",
       "      <td>7639</td>\n",
       "    </tr>\n",
       "    <tr>\n",
       "      <th>2</th>\n",
       "      <td>5631500400</td>\n",
       "      <td>20150225T000000</td>\n",
       "      <td>180000.0</td>\n",
       "      <td>2</td>\n",
       "      <td>1.00</td>\n",
       "      <td>770</td>\n",
       "      <td>10000</td>\n",
       "      <td>1.0</td>\n",
       "      <td>0</td>\n",
       "      <td>0</td>\n",
       "      <td>...</td>\n",
       "      <td>6</td>\n",
       "      <td>770</td>\n",
       "      <td>0</td>\n",
       "      <td>1933</td>\n",
       "      <td>0</td>\n",
       "      <td>98028</td>\n",
       "      <td>47.7379</td>\n",
       "      <td>-122.233</td>\n",
       "      <td>2720</td>\n",
       "      <td>8062</td>\n",
       "    </tr>\n",
       "    <tr>\n",
       "      <th>3</th>\n",
       "      <td>2487200875</td>\n",
       "      <td>20141209T000000</td>\n",
       "      <td>604000.0</td>\n",
       "      <td>4</td>\n",
       "      <td>3.00</td>\n",
       "      <td>1960</td>\n",
       "      <td>5000</td>\n",
       "      <td>1.0</td>\n",
       "      <td>0</td>\n",
       "      <td>0</td>\n",
       "      <td>...</td>\n",
       "      <td>7</td>\n",
       "      <td>1050</td>\n",
       "      <td>910</td>\n",
       "      <td>1965</td>\n",
       "      <td>0</td>\n",
       "      <td>98136</td>\n",
       "      <td>47.5208</td>\n",
       "      <td>-122.393</td>\n",
       "      <td>1360</td>\n",
       "      <td>5000</td>\n",
       "    </tr>\n",
       "    <tr>\n",
       "      <th>4</th>\n",
       "      <td>1954400510</td>\n",
       "      <td>20150218T000000</td>\n",
       "      <td>510000.0</td>\n",
       "      <td>3</td>\n",
       "      <td>2.00</td>\n",
       "      <td>1680</td>\n",
       "      <td>8080</td>\n",
       "      <td>1.0</td>\n",
       "      <td>0</td>\n",
       "      <td>0</td>\n",
       "      <td>...</td>\n",
       "      <td>8</td>\n",
       "      <td>1680</td>\n",
       "      <td>0</td>\n",
       "      <td>1987</td>\n",
       "      <td>0</td>\n",
       "      <td>98074</td>\n",
       "      <td>47.6168</td>\n",
       "      <td>-122.045</td>\n",
       "      <td>1800</td>\n",
       "      <td>7503</td>\n",
       "    </tr>\n",
       "  </tbody>\n",
       "</table>\n",
       "<p>5 rows × 21 columns</p>\n",
       "</div>"
      ],
      "text/plain": [
       "           id             date     price  bedrooms  bathrooms  sqft_living  \\\n",
       "0  7129300520  20141013T000000  221900.0         3       1.00         1180   \n",
       "1  6414100192  20141209T000000  538000.0         3       2.25         2570   \n",
       "2  5631500400  20150225T000000  180000.0         2       1.00          770   \n",
       "3  2487200875  20141209T000000  604000.0         4       3.00         1960   \n",
       "4  1954400510  20150218T000000  510000.0         3       2.00         1680   \n",
       "\n",
       "   sqft_lot  floors  waterfront  view  ...  grade  sqft_above  sqft_basement  \\\n",
       "0      5650     1.0           0     0  ...      7        1180              0   \n",
       "1      7242     2.0           0     0  ...      7        2170            400   \n",
       "2     10000     1.0           0     0  ...      6         770              0   \n",
       "3      5000     1.0           0     0  ...      7        1050            910   \n",
       "4      8080     1.0           0     0  ...      8        1680              0   \n",
       "\n",
       "   yr_built  yr_renovated  zipcode      lat     long  sqft_living15  \\\n",
       "0      1955             0    98178  47.5112 -122.257           1340   \n",
       "1      1951          1991    98125  47.7210 -122.319           1690   \n",
       "2      1933             0    98028  47.7379 -122.233           2720   \n",
       "3      1965             0    98136  47.5208 -122.393           1360   \n",
       "4      1987             0    98074  47.6168 -122.045           1800   \n",
       "\n",
       "   sqft_lot15  \n",
       "0        5650  \n",
       "1        7639  \n",
       "2        8062  \n",
       "3        5000  \n",
       "4        7503  \n",
       "\n",
       "[5 rows x 21 columns]"
      ]
     },
     "execution_count": 22,
     "metadata": {},
     "output_type": "execute_result"
    }
   ],
   "source": [
    "base_casas = pd.read_csv('house_prices.csv')\n",
    "base_casas.head()"
   ]
  },
  {
   "cell_type": "code",
   "execution_count": 23,
   "id": "430398fa-a9a7-452f-8a1c-e431c7d4b78c",
   "metadata": {
    "tags": []
   },
   "outputs": [],
   "source": [
    "# removendo variáveis categoricas e repetidas\n",
    "base_casas.drop(columns = ['id', 'date', 'sqft_living15', 'sqft_lot15'], axis = 1, inplace = True)"
   ]
  },
  {
   "cell_type": "code",
   "execution_count": 24,
   "id": "3c3fad16-ed1b-4d16-9536-1d9a25843948",
   "metadata": {
    "tags": []
   },
   "outputs": [
    {
     "name": "stdout",
     "output_type": "stream",
     "text": [
      "(15129, 17)\n",
      "(6484, 17)\n"
     ]
    }
   ],
   "source": [
    "# criando um conjunto de dados para teste e treino\n",
    "base_treinamento = base_casas.iloc[0:15129,:]\n",
    "print(base_treinamento.shape)\n",
    "\n",
    "base_teste = base_casas.iloc[15129:,:]\n",
    "print(base_teste.shape)"
   ]
  },
  {
   "cell_type": "code",
   "execution_count": 25,
   "id": "be2fc292-1559-4382-9ae7-6ccc47491ee2",
   "metadata": {
    "tags": []
   },
   "outputs": [
    {
     "name": "stdout",
     "output_type": "stream",
     "text": [
      "Tamanho do conjunto de teste 69.99953731550455%\n"
     ]
    }
   ],
   "source": [
    "# analisando a divisão dos conjuntos\n",
    "test_len = 15129/base_casas.shape[0]\n",
    "print('Tamanho do conjunto de teste {}%'.format(test_len*100))"
   ]
  },
  {
   "cell_type": "code",
   "execution_count": 26,
   "id": "16b9f621-fd4f-47ac-9b86-9872ecad271e",
   "metadata": {
    "tags": []
   },
   "outputs": [],
   "source": [
    "# X_train,X_test,y_train,y_test\n",
    "X_teste = base_teste.iloc[:,1:17].values\n",
    "y_teste = base_teste.iloc[:, 0].values"
   ]
  },
  {
   "cell_type": "code",
   "execution_count": 27,
   "id": "a98088aa-0c0d-4820-b7a0-053e483d0018",
   "metadata": {
    "tags": []
   },
   "outputs": [],
   "source": [
    "# exportando\n",
    "base_treinamento.to_csv('house_prices_train_xgboost.csv', header = False, index = False)\n",
    "base_teste.to_csv('house_prices_test_xgboost.csv', header = False, index = False)"
   ]
  },
  {
   "cell_type": "markdown",
   "id": "3ca6c49f-138a-4837-a70d-b8b7423e8639",
   "metadata": {
    "jp-MarkdownHeadingCollapsed": true,
    "tags": []
   },
   "source": [
    "# Configuração do SageMaker"
   ]
  },
  {
   "cell_type": "code",
   "execution_count": 28,
   "id": "41a8da4c-e098-46a0-a127-33cd0f75be77",
   "metadata": {
    "tags": []
   },
   "outputs": [],
   "source": [
    "import sagemaker\n",
    "import boto3\n",
    "from sagemaker import Session"
   ]
  },
  {
   "cell_type": "code",
   "execution_count": 29,
   "id": "55b4b0f3-5e92-4930-b3fe-6d2107211cb2",
   "metadata": {
    "tags": []
   },
   "outputs": [],
   "source": [
    "session = sagemaker.Session()\n",
    "bucket = 'jescursoawssagemaker'\n",
    "subpasta_modelo = 'modelos/house-prices/xgboost'\n",
    "subpasta_dataset = 'datasets/house-prices'\n",
    "key_train = 'houses-train-data-xgboost'\n",
    "key_test = 'houses-test-data-xgboost'"
   ]
  },
  {
   "cell_type": "code",
   "execution_count": 30,
   "id": "17ddf564-7d5a-4945-bfcf-097dff060a7c",
   "metadata": {
    "tags": []
   },
   "outputs": [
    {
     "name": "stdout",
     "output_type": "stream",
     "text": [
      "Role: arn:aws:iam::089538278909:role/service-role/AmazonSageMakerServiceCatalogProductsExecutionRole\n",
      "Localização da base de treinamento: s3://jescursoawssagemaker/datasets/house-prices/train/houses-train-data-xgboost\n",
      "Localização da base de teste: s3://jescursoawssagemaker/datasets/house-prices/test/houses-test-data-xgboost\n",
      "Modelo final será salvo em: s3://jescursoawssagemaker/modelos/house-prices/xgboost/output\n"
     ]
    }
   ],
   "source": [
    "role = sagemaker.get_execution_role()\n",
    "s3_train_data = 's3://{}/{}/train/{}'.format(bucket, subpasta_dataset, key_train)\n",
    "s3_test_data = 's3://{}/{}/test/{}'.format(bucket, subpasta_dataset, key_test)\n",
    "output_location = 's3://{}/{}/output'.format(bucket, subpasta_modelo)\n",
    "print('Role: {}'.format(role))\n",
    "print('Localização da base de treinamento: {}'.format(s3_train_data))\n",
    "print('Localização da base de teste: {}'.format(s3_test_data))\n",
    "print('Modelo final será salvo em: {}'.format(output_location))"
   ]
  },
  {
   "cell_type": "code",
   "execution_count": 31,
   "id": "cdf82a5b-d016-4637-8981-849819e39ccb",
   "metadata": {
    "tags": []
   },
   "outputs": [],
   "source": [
    "# fazendo upload das bases de dados para o S3\n",
    "import os\n",
    "with open('house_prices_train_xgboost.csv', 'rb') as f:\n",
    "    boto3.Session().resource('s3').Bucket(bucket).Object(os.path.join(subpasta_dataset, 'train', key_train)).upload_fileobj(f)"
   ]
  },
  {
   "cell_type": "code",
   "execution_count": 32,
   "id": "ae79b3ea-23d6-4c83-b7d4-706c171d0010",
   "metadata": {
    "tags": []
   },
   "outputs": [],
   "source": [
    "# fazendo upload das bases de dados para o S3\n",
    "import os\n",
    "with open('house_prices_test_xgboost.csv', 'rb') as f:\n",
    "    boto3.Session().resource('s3').Bucket(bucket).Object(os.path.join(subpasta_dataset, 'test', key_test)).upload_fileobj(f)"
   ]
  },
  {
   "cell_type": "markdown",
   "id": "2d803eef-82ec-4701-ac5a-e0ef91b46c56",
   "metadata": {
    "tags": []
   },
   "source": [
    "# Treinamento do XGBoost"
   ]
  },
  {
   "cell_type": "code",
   "execution_count": 33,
   "id": "a59ea10a-457b-4d0b-848e-d62b4568948f",
   "metadata": {
    "tags": []
   },
   "outputs": [],
   "source": [
    "from sagemaker import image_uris"
   ]
  },
  {
   "cell_type": "code",
   "execution_count": 34,
   "id": "45e040f9-a4f2-4f5f-b36e-44cfca40aaed",
   "metadata": {
    "tags": []
   },
   "outputs": [],
   "source": [
    "container = image_uris.retrieve(framework='xgboost', region=boto3.Session().region_name, version='latest') #versao é especifica para o xgboost"
   ]
  },
  {
   "cell_type": "code",
   "execution_count": 35,
   "id": "62365cae-9404-426f-baeb-65889a44e13d",
   "metadata": {
    "tags": []
   },
   "outputs": [],
   "source": [
    "# https://sagemaker.readthedocs.io/en/stable/api/training/estimators.html\n",
    "\n",
    "xgboost = sagemaker.estimator.Estimator(image_uri=container,\n",
    "                                        role = role,\n",
    "                                        instance_count = 1, # 1 instancia para o treinamento\n",
    "                                        instance_type = 'ml.m5.2xlarge',\n",
    "                                        output_path = output_location,\n",
    "                                        sagemaker_session = session\n",
    "                                       )"
   ]
  },
  {
   "cell_type": "code",
   "execution_count": 36,
   "id": "9c14b5b2-e1d3-4f16-a701-fb566f1fc547",
   "metadata": {
    "tags": []
   },
   "outputs": [],
   "source": [
    "# https://docs.aws.amazon.com/sagemaker/latest/dg/xgboost_hyperparameters.html\n",
    "xgboost.set_hyperparameters(num_round = 100) #numero de rounds"
   ]
  },
  {
   "cell_type": "code",
   "execution_count": 37,
   "id": "772e5edc-a20e-4c21-aee5-aae50caf9edf",
   "metadata": {
    "tags": []
   },
   "outputs": [],
   "source": [
    "train_input = sagemaker.inputs.TrainingInput(s3_data = s3_train_data, content_type='csv', s3_data_type = 'S3Prefix')\n",
    "validation_input = sagemaker.inputs.TrainingInput(s3_data = s3_test_data, content_type='csv', s3_data_type = 'S3Prefix')\n",
    "data_channels = {'train': train_input, 'validation': validation_input}"
   ]
  },
  {
   "cell_type": "code",
   "execution_count": 38,
   "id": "76156067-b43c-4679-96d8-2e3319a84015",
   "metadata": {
    "tags": []
   },
   "outputs": [
    {
     "name": "stdout",
     "output_type": "stream",
     "text": [
      "2023-01-28 18:31:44 Starting - Starting the training job...\n",
      "2023-01-28 18:32:09 Starting - Preparing the instances for trainingProfilerReport-1674930704: InProgress\n",
      "......\n",
      "2023-01-28 18:33:11 Downloading - Downloading input data......\n",
      "2023-01-28 18:34:09 Training - Training image download completed. Training in progress..\u001b[34mArguments: train\u001b[0m\n",
      "\u001b[34m[2023-01-28:18:34:13:INFO] Running standalone xgboost training.\u001b[0m\n",
      "\u001b[34m[2023-01-28:18:34:13:INFO] File size need to be processed in the node: 1.55mb. Available memory size in the node: 24019.95mb\u001b[0m\n",
      "\u001b[34m[2023-01-28:18:34:13:INFO] Determined delimiter of CSV input is ','\u001b[0m\n",
      "\u001b[34m[18:34:13] S3DistributionType set as FullyReplicated\u001b[0m\n",
      "\u001b[34m[18:34:13] 15129x16 matrix with 242064 entries loaded from /opt/ml/input/data/train?format=csv&label_column=0&delimiter=,\u001b[0m\n",
      "\u001b[34m[2023-01-28:18:34:13:INFO] Determined delimiter of CSV input is ','\u001b[0m\n",
      "\u001b[34m[18:34:13] S3DistributionType set as FullyReplicated\u001b[0m\n",
      "\u001b[34m[18:34:13] 6484x16 matrix with 103744 entries loaded from /opt/ml/input/data/validation?format=csv&label_column=0&delimiter=,\u001b[0m\n",
      "\u001b[34m[18:34:13] src/tree/updater_prune.cc:74: tree pruning end, 1 roots, 114 extra nodes, 0 pruned nodes, max_depth=6\u001b[0m\n",
      "\u001b[34m[0]#011train-rmse:470556#011validation-rmse:488482\u001b[0m\n",
      "\u001b[34m[18:34:14] src/tree/updater_prune.cc:74: tree pruning end, 1 roots, 98 extra nodes, 0 pruned nodes, max_depth=6\u001b[0m\n",
      "\u001b[34m[1]#011train-rmse:349103#011validation-rmse:364995\u001b[0m\n",
      "\u001b[34m[18:34:14] src/tree/updater_prune.cc:74: tree pruning end, 1 roots, 110 extra nodes, 0 pruned nodes, max_depth=6\u001b[0m\n",
      "\u001b[34m[2]#011train-rmse:265763#011validation-rmse:282964\u001b[0m\n",
      "\u001b[34m[18:34:14] src/tree/updater_prune.cc:74: tree pruning end, 1 roots, 104 extra nodes, 0 pruned nodes, max_depth=6\u001b[0m\n",
      "\u001b[34m[3]#011train-rmse:209380#011validation-rmse:226980\u001b[0m\n",
      "\u001b[34m[18:34:14] src/tree/updater_prune.cc:74: tree pruning end, 1 roots, 104 extra nodes, 0 pruned nodes, max_depth=6\u001b[0m\n",
      "\u001b[34m[4]#011train-rmse:172422#011validation-rmse:193026\u001b[0m\n",
      "\u001b[34m[18:34:14] src/tree/updater_prune.cc:74: tree pruning end, 1 roots, 112 extra nodes, 0 pruned nodes, max_depth=6\u001b[0m\n",
      "\u001b[34m[5]#011train-rmse:147947#011validation-rmse:171920\u001b[0m\n",
      "\u001b[34m[18:34:14] src/tree/updater_prune.cc:74: tree pruning end, 1 roots, 114 extra nodes, 0 pruned nodes, max_depth=6\u001b[0m\n",
      "\u001b[34m[6]#011train-rmse:131343#011validation-rmse:157350\u001b[0m\n",
      "\u001b[34m[18:34:14] src/tree/updater_prune.cc:74: tree pruning end, 1 roots, 120 extra nodes, 0 pruned nodes, max_depth=6\u001b[0m\n",
      "\u001b[34m[7]#011train-rmse:120283#011validation-rmse:146962\u001b[0m\n",
      "\u001b[34m[18:34:14] src/tree/updater_prune.cc:74: tree pruning end, 1 roots, 96 extra nodes, 0 pruned nodes, max_depth=6\u001b[0m\n",
      "\u001b[34m[8]#011train-rmse:112496#011validation-rmse:141205\u001b[0m\n",
      "\u001b[34m[18:34:14] src/tree/updater_prune.cc:74: tree pruning end, 1 roots, 80 extra nodes, 0 pruned nodes, max_depth=6\u001b[0m\n",
      "\u001b[34m[9]#011train-rmse:108028#011validation-rmse:138073\u001b[0m\n",
      "\u001b[34m[18:34:14] src/tree/updater_prune.cc:74: tree pruning end, 1 roots, 82 extra nodes, 0 pruned nodes, max_depth=6\u001b[0m\n",
      "\u001b[34m[10]#011train-rmse:105103#011validation-rmse:136574\u001b[0m\n",
      "\u001b[34m[18:34:14] src/tree/updater_prune.cc:74: tree pruning end, 1 roots, 116 extra nodes, 0 pruned nodes, max_depth=6\u001b[0m\n",
      "\u001b[34m[11]#011train-rmse:102048#011validation-rmse:134824\u001b[0m\n",
      "\u001b[34m[18:34:14] src/tree/updater_prune.cc:74: tree pruning end, 1 roots, 112 extra nodes, 0 pruned nodes, max_depth=6\u001b[0m\n",
      "\u001b[34m[12]#011train-rmse:99098.8#011validation-rmse:132881\u001b[0m\n",
      "\u001b[34m[18:34:14] src/tree/updater_prune.cc:74: tree pruning end, 1 roots, 66 extra nodes, 0 pruned nodes, max_depth=6\u001b[0m\n",
      "\u001b[34m[13]#011train-rmse:97927.4#011validation-rmse:132125\u001b[0m\n",
      "\u001b[34m[18:34:14] src/tree/updater_prune.cc:74: tree pruning end, 1 roots, 66 extra nodes, 0 pruned nodes, max_depth=6\u001b[0m\n",
      "\u001b[34m[14]#011train-rmse:96913.1#011validation-rmse:131518\u001b[0m\n",
      "\u001b[34m[18:34:14] src/tree/updater_prune.cc:74: tree pruning end, 1 roots, 102 extra nodes, 0 pruned nodes, max_depth=6\u001b[0m\n",
      "\u001b[34m[15]#011train-rmse:95556.1#011validation-rmse:130557\u001b[0m\n",
      "\u001b[34m[18:34:14] src/tree/updater_prune.cc:74: tree pruning end, 1 roots, 94 extra nodes, 0 pruned nodes, max_depth=6\u001b[0m\n",
      "\u001b[34m[16]#011train-rmse:94358.5#011validation-rmse:129864\u001b[0m\n",
      "\u001b[34m[18:34:14] src/tree/updater_prune.cc:74: tree pruning end, 1 roots, 88 extra nodes, 0 pruned nodes, max_depth=6\u001b[0m\n",
      "\u001b[34m[17]#011train-rmse:93512.8#011validation-rmse:129672\u001b[0m\n",
      "\u001b[34m[18:34:14] src/tree/updater_prune.cc:74: tree pruning end, 1 roots, 92 extra nodes, 0 pruned nodes, max_depth=6\u001b[0m\n",
      "\u001b[34m[18]#011train-rmse:92368.3#011validation-rmse:128961\u001b[0m\n",
      "\u001b[34m[18:34:14] src/tree/updater_prune.cc:74: tree pruning end, 1 roots, 118 extra nodes, 0 pruned nodes, max_depth=6\u001b[0m\n",
      "\u001b[34m[19]#011train-rmse:90808.5#011validation-rmse:128654\u001b[0m\n",
      "\u001b[34m[18:34:14] src/tree/updater_prune.cc:74: tree pruning end, 1 roots, 122 extra nodes, 0 pruned nodes, max_depth=6\u001b[0m\n",
      "\u001b[34m[20]#011train-rmse:89538.9#011validation-rmse:127921\u001b[0m\n",
      "\u001b[34m[18:34:14] src/tree/updater_prune.cc:74: tree pruning end, 1 roots, 116 extra nodes, 0 pruned nodes, max_depth=6\u001b[0m\n",
      "\u001b[34m[21]#011train-rmse:88515.9#011validation-rmse:127360\u001b[0m\n",
      "\u001b[34m[18:34:14] src/tree/updater_prune.cc:74: tree pruning end, 1 roots, 90 extra nodes, 0 pruned nodes, max_depth=6\u001b[0m\n",
      "\u001b[34m[22]#011train-rmse:87664.5#011validation-rmse:126847\u001b[0m\n",
      "\u001b[34m[18:34:14] src/tree/updater_prune.cc:74: tree pruning end, 1 roots, 84 extra nodes, 0 pruned nodes, max_depth=6\u001b[0m\n",
      "\u001b[34m[23]#011train-rmse:87071.3#011validation-rmse:126698\u001b[0m\n",
      "\u001b[34m[18:34:14] src/tree/updater_prune.cc:74: tree pruning end, 1 roots, 92 extra nodes, 0 pruned nodes, max_depth=6\u001b[0m\n",
      "\u001b[34m[24]#011train-rmse:86183.8#011validation-rmse:126479\u001b[0m\n",
      "\u001b[34m[18:34:14] src/tree/updater_prune.cc:74: tree pruning end, 1 roots, 90 extra nodes, 0 pruned nodes, max_depth=6\u001b[0m\n",
      "\u001b[34m[25]#011train-rmse:85441.1#011validation-rmse:126310\u001b[0m\n",
      "\u001b[34m[18:34:14] src/tree/updater_prune.cc:74: tree pruning end, 1 roots, 114 extra nodes, 0 pruned nodes, max_depth=6\u001b[0m\n",
      "\u001b[34m[26]#011train-rmse:84229.6#011validation-rmse:125711\u001b[0m\n",
      "\u001b[34m[18:34:14] src/tree/updater_prune.cc:74: tree pruning end, 1 roots, 110 extra nodes, 0 pruned nodes, max_depth=6\u001b[0m\n",
      "\u001b[34m[27]#011train-rmse:83479.3#011validation-rmse:125483\u001b[0m\n",
      "\u001b[34m[18:34:14] src/tree/updater_prune.cc:74: tree pruning end, 1 roots, 112 extra nodes, 0 pruned nodes, max_depth=6\u001b[0m\n",
      "\u001b[34m[28]#011train-rmse:82456.5#011validation-rmse:125393\u001b[0m\n",
      "\u001b[34m[18:34:14] src/tree/updater_prune.cc:74: tree pruning end, 1 roots, 100 extra nodes, 0 pruned nodes, max_depth=6\u001b[0m\n",
      "\u001b[34m[29]#011train-rmse:81683.3#011validation-rmse:125239\u001b[0m\n",
      "\u001b[34m[18:34:14] src/tree/updater_prune.cc:74: tree pruning end, 1 roots, 82 extra nodes, 0 pruned nodes, max_depth=6\u001b[0m\n",
      "\u001b[34m[30]#011train-rmse:81335.5#011validation-rmse:125331\u001b[0m\n",
      "\u001b[34m[18:34:14] src/tree/updater_prune.cc:74: tree pruning end, 1 roots, 84 extra nodes, 0 pruned nodes, max_depth=6\u001b[0m\n",
      "\u001b[34m[31]#011train-rmse:80743.9#011validation-rmse:125246\u001b[0m\n",
      "\u001b[34m[18:34:14] src/tree/updater_prune.cc:74: tree pruning end, 1 roots, 104 extra nodes, 0 pruned nodes, max_depth=6\u001b[0m\n",
      "\u001b[34m[32]#011train-rmse:80146.9#011validation-rmse:125307\u001b[0m\n",
      "\u001b[34m[18:34:14] src/tree/updater_prune.cc:74: tree pruning end, 1 roots, 66 extra nodes, 0 pruned nodes, max_depth=6\u001b[0m\n",
      "\u001b[34m[33]#011train-rmse:79583.6#011validation-rmse:125052\u001b[0m\n",
      "\u001b[34m[18:34:14] src/tree/updater_prune.cc:74: tree pruning end, 1 roots, 78 extra nodes, 0 pruned nodes, max_depth=6\u001b[0m\n",
      "\u001b[34m[34]#011train-rmse:79181.8#011validation-rmse:125064\u001b[0m\n",
      "\u001b[34m[18:34:14] src/tree/updater_prune.cc:74: tree pruning end, 1 roots, 70 extra nodes, 0 pruned nodes, max_depth=6\u001b[0m\n",
      "\u001b[34m[35]#011train-rmse:78374.3#011validation-rmse:124741\u001b[0m\n",
      "\u001b[34m[18:34:14] src/tree/updater_prune.cc:74: tree pruning end, 1 roots, 106 extra nodes, 0 pruned nodes, max_depth=6\u001b[0m\n",
      "\u001b[34m[36]#011train-rmse:77748#011validation-rmse:124442\u001b[0m\n",
      "\u001b[34m[18:34:14] src/tree/updater_prune.cc:74: tree pruning end, 1 roots, 112 extra nodes, 0 pruned nodes, max_depth=6\u001b[0m\n",
      "\u001b[34m[37]#011train-rmse:77099.8#011validation-rmse:124443\u001b[0m\n",
      "\u001b[34m[18:34:14] src/tree/updater_prune.cc:74: tree pruning end, 1 roots, 102 extra nodes, 0 pruned nodes, max_depth=6\u001b[0m\n",
      "\u001b[34m[38]#011train-rmse:76743.7#011validation-rmse:124197\u001b[0m\n",
      "\u001b[34m[18:34:14] src/tree/updater_prune.cc:74: tree pruning end, 1 roots, 38 extra nodes, 0 pruned nodes, max_depth=6\u001b[0m\n",
      "\u001b[34m[39]#011train-rmse:76634.7#011validation-rmse:124100\u001b[0m\n",
      "\u001b[34m[18:34:14] src/tree/updater_prune.cc:74: tree pruning end, 1 roots, 90 extra nodes, 0 pruned nodes, max_depth=6\u001b[0m\n",
      "\u001b[34m[40]#011train-rmse:76182.6#011validation-rmse:124080\u001b[0m\n",
      "\u001b[34m[18:34:14] src/tree/updater_prune.cc:74: tree pruning end, 1 roots, 110 extra nodes, 0 pruned nodes, max_depth=6\u001b[0m\n",
      "\u001b[34m[41]#011train-rmse:75441.3#011validation-rmse:123983\u001b[0m\n",
      "\u001b[34m[18:34:14] src/tree/updater_prune.cc:74: tree pruning end, 1 roots, 104 extra nodes, 0 pruned nodes, max_depth=6\u001b[0m\n",
      "\u001b[34m[42]#011train-rmse:75150.2#011validation-rmse:123894\u001b[0m\n",
      "\u001b[34m[18:34:14] src/tree/updater_prune.cc:74: tree pruning end, 1 roots, 88 extra nodes, 0 pruned nodes, max_depth=6\u001b[0m\n",
      "\u001b[34m[43]#011train-rmse:74767.2#011validation-rmse:123636\u001b[0m\n",
      "\u001b[34m[18:34:14] src/tree/updater_prune.cc:74: tree pruning end, 1 roots, 110 extra nodes, 0 pruned nodes, max_depth=6\u001b[0m\n",
      "\u001b[34m[44]#011train-rmse:74356.1#011validation-rmse:123569\u001b[0m\n",
      "\u001b[34m[18:34:14] src/tree/updater_prune.cc:74: tree pruning end, 1 roots, 94 extra nodes, 0 pruned nodes, max_depth=6\u001b[0m\n",
      "\u001b[34m[45]#011train-rmse:73580.7#011validation-rmse:123155\u001b[0m\n",
      "\u001b[34m[18:34:14] src/tree/updater_prune.cc:74: tree pruning end, 1 roots, 122 extra nodes, 0 pruned nodes, max_depth=6\u001b[0m\n",
      "\u001b[34m[46]#011train-rmse:72813.1#011validation-rmse:123242\u001b[0m\n",
      "\u001b[34m[18:34:14] src/tree/updater_prune.cc:74: tree pruning end, 1 roots, 104 extra nodes, 0 pruned nodes, max_depth=6\u001b[0m\n",
      "\u001b[34m[47]#011train-rmse:72346.4#011validation-rmse:123385\u001b[0m\n",
      "\u001b[34m[18:34:14] src/tree/updater_prune.cc:74: tree pruning end, 1 roots, 118 extra nodes, 0 pruned nodes, max_depth=6\u001b[0m\n",
      "\u001b[34m[48]#011train-rmse:71708.4#011validation-rmse:123489\u001b[0m\n",
      "\u001b[34m[18:34:14] src/tree/updater_prune.cc:74: tree pruning end, 1 roots, 86 extra nodes, 0 pruned nodes, max_depth=6\u001b[0m\n",
      "\u001b[34m[49]#011train-rmse:71377.2#011validation-rmse:123387\u001b[0m\n",
      "\u001b[34m[18:34:14] src/tree/updater_prune.cc:74: tree pruning end, 1 roots, 104 extra nodes, 0 pruned nodes, max_depth=6\u001b[0m\n",
      "\u001b[34m[50]#011train-rmse:71003#011validation-rmse:123322\u001b[0m\n",
      "\u001b[34m[18:34:14] src/tree/updater_prune.cc:74: tree pruning end, 1 roots, 116 extra nodes, 0 pruned nodes, max_depth=6\u001b[0m\n",
      "\u001b[34m[51]#011train-rmse:70255.8#011validation-rmse:123163\u001b[0m\n",
      "\u001b[34m[18:34:14] src/tree/updater_prune.cc:74: tree pruning end, 1 roots, 98 extra nodes, 0 pruned nodes, max_depth=6\u001b[0m\n",
      "\u001b[34m[52]#011train-rmse:69727.2#011validation-rmse:123042\u001b[0m\n",
      "\u001b[34m[18:34:14] src/tree/updater_prune.cc:74: tree pruning end, 1 roots, 82 extra nodes, 0 pruned nodes, max_depth=6\u001b[0m\n",
      "\u001b[34m[53]#011train-rmse:69440.7#011validation-rmse:123111\u001b[0m\n",
      "\u001b[34m[18:34:14] src/tree/updater_prune.cc:74: tree pruning end, 1 roots, 116 extra nodes, 0 pruned nodes, max_depth=6\u001b[0m\n",
      "\u001b[34m[54]#011train-rmse:68825.1#011validation-rmse:123141\u001b[0m\n",
      "\u001b[34m[18:34:14] src/tree/updater_prune.cc:74: tree pruning end, 1 roots, 90 extra nodes, 0 pruned nodes, max_depth=6\u001b[0m\n",
      "\u001b[34m[55]#011train-rmse:68565.3#011validation-rmse:123090\u001b[0m\n",
      "\u001b[34m[18:34:14] src/tree/updater_prune.cc:74: tree pruning end, 1 roots, 80 extra nodes, 0 pruned nodes, max_depth=6\u001b[0m\n",
      "\u001b[34m[56]#011train-rmse:68338.4#011validation-rmse:123152\u001b[0m\n",
      "\u001b[34m[18:34:14] src/tree/updater_prune.cc:74: tree pruning end, 1 roots, 106 extra nodes, 0 pruned nodes, max_depth=6\u001b[0m\n",
      "\u001b[34m[57]#011train-rmse:67920.7#011validation-rmse:123112\u001b[0m\n",
      "\u001b[34m[18:34:14] src/tree/updater_prune.cc:74: tree pruning end, 1 roots, 72 extra nodes, 0 pruned nodes, max_depth=6\u001b[0m\n",
      "\u001b[34m[58]#011train-rmse:67691.5#011validation-rmse:123068\u001b[0m\n",
      "\u001b[34m[18:34:14] src/tree/updater_prune.cc:74: tree pruning end, 1 roots, 86 extra nodes, 0 pruned nodes, max_depth=6\u001b[0m\n",
      "\u001b[34m[59]#011train-rmse:67354.8#011validation-rmse:123099\u001b[0m\n",
      "\u001b[34m[18:34:14] src/tree/updater_prune.cc:74: tree pruning end, 1 roots, 90 extra nodes, 0 pruned nodes, max_depth=6\u001b[0m\n",
      "\u001b[34m[60]#011train-rmse:67214.5#011validation-rmse:123082\u001b[0m\n",
      "\u001b[34m[18:34:14] src/tree/updater_prune.cc:74: tree pruning end, 1 roots, 86 extra nodes, 0 pruned nodes, max_depth=6\u001b[0m\n",
      "\u001b[34m[61]#011train-rmse:66841.3#011validation-rmse:123000\u001b[0m\n",
      "\u001b[34m[18:34:14] src/tree/updater_prune.cc:74: tree pruning end, 1 roots, 104 extra nodes, 0 pruned nodes, max_depth=6\u001b[0m\n",
      "\u001b[34m[62]#011train-rmse:66220.1#011validation-rmse:122741\u001b[0m\n",
      "\u001b[34m[18:34:14] src/tree/updater_prune.cc:74: tree pruning end, 1 roots, 108 extra nodes, 0 pruned nodes, max_depth=6\u001b[0m\n",
      "\u001b[34m[63]#011train-rmse:65776.9#011validation-rmse:122745\u001b[0m\n",
      "\u001b[34m[18:34:14] src/tree/updater_prune.cc:74: tree pruning end, 1 roots, 118 extra nodes, 0 pruned nodes, max_depth=6\u001b[0m\n",
      "\u001b[34m[64]#011train-rmse:65230#011validation-rmse:122510\u001b[0m\n",
      "\u001b[34m[18:34:14] src/tree/updater_prune.cc:74: tree pruning end, 1 roots, 104 extra nodes, 0 pruned nodes, max_depth=6\u001b[0m\n",
      "\u001b[34m[65]#011train-rmse:64952.9#011validation-rmse:122614\u001b[0m\n",
      "\u001b[34m[18:34:14] src/tree/updater_prune.cc:74: tree pruning end, 1 roots, 110 extra nodes, 0 pruned nodes, max_depth=6\u001b[0m\n",
      "\u001b[34m[66]#011train-rmse:64498.1#011validation-rmse:122433\u001b[0m\n",
      "\u001b[34m[18:34:14] src/tree/updater_prune.cc:74: tree pruning end, 1 roots, 98 extra nodes, 0 pruned nodes, max_depth=6\u001b[0m\n",
      "\u001b[34m[67]#011train-rmse:64177.6#011validation-rmse:122545\u001b[0m\n",
      "\u001b[34m[18:34:14] src/tree/updater_prune.cc:74: tree pruning end, 1 roots, 112 extra nodes, 0 pruned nodes, max_depth=6\u001b[0m\n",
      "\u001b[34m[68]#011train-rmse:63860.8#011validation-rmse:122529\u001b[0m\n",
      "\u001b[34m[18:34:14] src/tree/updater_prune.cc:74: tree pruning end, 1 roots, 94 extra nodes, 0 pruned nodes, max_depth=6\u001b[0m\n",
      "\u001b[34m[69]#011train-rmse:63643.2#011validation-rmse:122515\u001b[0m\n",
      "\u001b[34m[18:34:14] src/tree/updater_prune.cc:74: tree pruning end, 1 roots, 104 extra nodes, 0 pruned nodes, max_depth=6\u001b[0m\n",
      "\u001b[34m[70]#011train-rmse:63290.7#011validation-rmse:122466\u001b[0m\n",
      "\u001b[34m[18:34:14] src/tree/updater_prune.cc:74: tree pruning end, 1 roots, 94 extra nodes, 0 pruned nodes, max_depth=6\u001b[0m\n",
      "\u001b[34m[71]#011train-rmse:62927.3#011validation-rmse:122467\u001b[0m\n",
      "\u001b[34m[18:34:14] src/tree/updater_prune.cc:74: tree pruning end, 1 roots, 106 extra nodes, 0 pruned nodes, max_depth=6\u001b[0m\n",
      "\u001b[34m[72]#011train-rmse:62666.3#011validation-rmse:122420\u001b[0m\n",
      "\u001b[34m[18:34:14] src/tree/updater_prune.cc:74: tree pruning end, 1 roots, 108 extra nodes, 0 pruned nodes, max_depth=6\u001b[0m\n",
      "\u001b[34m[73]#011train-rmse:62308.9#011validation-rmse:122362\u001b[0m\n",
      "\u001b[34m[18:34:14] src/tree/updater_prune.cc:74: tree pruning end, 1 roots, 112 extra nodes, 0 pruned nodes, max_depth=6\u001b[0m\n",
      "\u001b[34m[74]#011train-rmse:62192.3#011validation-rmse:122376\u001b[0m\n",
      "\u001b[34m[18:34:14] src/tree/updater_prune.cc:74: tree pruning end, 1 roots, 106 extra nodes, 0 pruned nodes, max_depth=6\u001b[0m\n",
      "\u001b[34m[75]#011train-rmse:62037.5#011validation-rmse:122359\u001b[0m\n",
      "\u001b[34m[18:34:14] src/tree/updater_prune.cc:74: tree pruning end, 1 roots, 90 extra nodes, 0 pruned nodes, max_depth=6\u001b[0m\n",
      "\u001b[34m[76]#011train-rmse:61797.9#011validation-rmse:122453\u001b[0m\n",
      "\u001b[34m[18:34:14] src/tree/updater_prune.cc:74: tree pruning end, 1 roots, 120 extra nodes, 0 pruned nodes, max_depth=6\u001b[0m\n",
      "\u001b[34m[77]#011train-rmse:61252.2#011validation-rmse:122482\u001b[0m\n",
      "\u001b[34m[18:34:14] src/tree/updater_prune.cc:74: tree pruning end, 1 roots, 122 extra nodes, 0 pruned nodes, max_depth=6\u001b[0m\n",
      "\u001b[34m[78]#011train-rmse:60662.8#011validation-rmse:122460\u001b[0m\n",
      "\u001b[34m[18:34:14] src/tree/updater_prune.cc:74: tree pruning end, 1 roots, 98 extra nodes, 0 pruned nodes, max_depth=6\u001b[0m\n",
      "\u001b[34m[79]#011train-rmse:60478.4#011validation-rmse:122408\u001b[0m\n",
      "\u001b[34m[18:34:14] src/tree/updater_prune.cc:74: tree pruning end, 1 roots, 120 extra nodes, 0 pruned nodes, max_depth=6\u001b[0m\n",
      "\u001b[34m[80]#011train-rmse:60104.5#011validation-rmse:122487\u001b[0m\n",
      "\u001b[34m[18:34:14] src/tree/updater_prune.cc:74: tree pruning end, 1 roots, 72 extra nodes, 0 pruned nodes, max_depth=6\u001b[0m\n",
      "\u001b[34m[81]#011train-rmse:60042.5#011validation-rmse:122457\u001b[0m\n",
      "\u001b[34m[18:34:14] src/tree/updater_prune.cc:74: tree pruning end, 1 roots, 114 extra nodes, 0 pruned nodes, max_depth=6\u001b[0m\n",
      "\u001b[34m[82]#011train-rmse:59856.7#011validation-rmse:122461\u001b[0m\n",
      "\u001b[34m[18:34:14] src/tree/updater_prune.cc:74: tree pruning end, 1 roots, 110 extra nodes, 0 pruned nodes, max_depth=6\u001b[0m\n",
      "\u001b[34m[83]#011train-rmse:59576.2#011validation-rmse:122424\u001b[0m\n",
      "\u001b[34m[18:34:14] src/tree/updater_prune.cc:74: tree pruning end, 1 roots, 112 extra nodes, 0 pruned nodes, max_depth=6\u001b[0m\n",
      "\u001b[34m[84]#011train-rmse:59223.4#011validation-rmse:122388\u001b[0m\n",
      "\u001b[34m[18:34:14] src/tree/updater_prune.cc:74: tree pruning end, 1 roots, 104 extra nodes, 0 pruned nodes, max_depth=6\u001b[0m\n",
      "\u001b[34m[85]#011train-rmse:58942.1#011validation-rmse:122293\u001b[0m\n",
      "\u001b[34m[18:34:14] src/tree/updater_prune.cc:74: tree pruning end, 1 roots, 104 extra nodes, 0 pruned nodes, max_depth=6\u001b[0m\n",
      "\u001b[34m[86]#011train-rmse:58657.7#011validation-rmse:122211\u001b[0m\n",
      "\u001b[34m[18:34:14] src/tree/updater_prune.cc:74: tree pruning end, 1 roots, 92 extra nodes, 0 pruned nodes, max_depth=6\u001b[0m\n",
      "\u001b[34m[87]#011train-rmse:58411.9#011validation-rmse:122234\u001b[0m\n",
      "\u001b[34m[18:34:14] src/tree/updater_prune.cc:74: tree pruning end, 1 roots, 66 extra nodes, 0 pruned nodes, max_depth=6\u001b[0m\n",
      "\u001b[34m[88]#011train-rmse:58308.5#011validation-rmse:122246\u001b[0m\n",
      "\u001b[34m[18:34:14] src/tree/updater_prune.cc:74: tree pruning end, 1 roots, 46 extra nodes, 0 pruned nodes, max_depth=6\u001b[0m\n",
      "\u001b[34m[89]#011train-rmse:58279.1#011validation-rmse:122253\u001b[0m\n",
      "\u001b[34m[18:34:14] src/tree/updater_prune.cc:74: tree pruning end, 1 roots, 100 extra nodes, 0 pruned nodes, max_depth=6\u001b[0m\n",
      "\u001b[34m[90]#011train-rmse:58107.2#011validation-rmse:122232\u001b[0m\n",
      "\u001b[34m[18:34:14] src/tree/updater_prune.cc:74: tree pruning end, 1 roots, 86 extra nodes, 0 pruned nodes, max_depth=6\u001b[0m\n",
      "\u001b[34m[91]#011train-rmse:57885.6#011validation-rmse:122227\u001b[0m\n",
      "\u001b[34m[18:34:14] src/tree/updater_prune.cc:74: tree pruning end, 1 roots, 92 extra nodes, 0 pruned nodes, max_depth=6\u001b[0m\n",
      "\u001b[34m[92]#011train-rmse:57525.8#011validation-rmse:122237\u001b[0m\n",
      "\u001b[34m[18:34:14] src/tree/updater_prune.cc:74: tree pruning end, 1 roots, 92 extra nodes, 0 pruned nodes, max_depth=6\u001b[0m\n",
      "\u001b[34m[93]#011train-rmse:57313.3#011validation-rmse:122250\u001b[0m\n",
      "\u001b[34m[18:34:14] src/tree/updater_prune.cc:74: tree pruning end, 1 roots, 114 extra nodes, 0 pruned nodes, max_depth=6\u001b[0m\n",
      "\u001b[34m[94]#011train-rmse:56991.2#011validation-rmse:122280\u001b[0m\n",
      "\u001b[34m[18:34:14] src/tree/updater_prune.cc:74: tree pruning end, 1 roots, 80 extra nodes, 0 pruned nodes, max_depth=6\u001b[0m\n",
      "\u001b[34m[95]#011train-rmse:56903.8#011validation-rmse:122292\u001b[0m\n",
      "\u001b[34m[18:34:14] src/tree/updater_prune.cc:74: tree pruning end, 1 roots, 64 extra nodes, 0 pruned nodes, max_depth=6\u001b[0m\n",
      "\u001b[34m[96]#011train-rmse:56724.3#011validation-rmse:122300\u001b[0m\n",
      "\u001b[34m[18:34:14] src/tree/updater_prune.cc:74: tree pruning end, 1 roots, 114 extra nodes, 0 pruned nodes, max_depth=6\u001b[0m\n",
      "\u001b[34m[97]#011train-rmse:56407.2#011validation-rmse:122112\u001b[0m\n",
      "\u001b[34m[18:34:14] src/tree/updater_prune.cc:74: tree pruning end, 1 roots, 114 extra nodes, 0 pruned nodes, max_depth=6\u001b[0m\n",
      "\u001b[34m[98]#011train-rmse:56064.4#011validation-rmse:122013\u001b[0m\n",
      "\u001b[34m[18:34:14] src/tree/updater_prune.cc:74: tree pruning end, 1 roots, 90 extra nodes, 0 pruned nodes, max_depth=6\u001b[0m\n",
      "\u001b[34m[99]#011train-rmse:55896.7#011validation-rmse:121962\u001b[0m\n",
      "\n",
      "2023-01-28 18:34:34 Uploading - Uploading generated training model\n",
      "2023-01-28 18:34:34 Completed - Training job completed\n",
      "Training seconds: 82\n",
      "Billable seconds: 82\n"
     ]
    }
   ],
   "source": [
    "xgboost.fit(data_channels)"
   ]
  },
  {
   "cell_type": "markdown",
   "id": "67587a02-5d96-4787-8f13-5c97e80c5e3b",
   "metadata": {},
   "source": [
    "# Deploy, previsões e avaliação"
   ]
  },
  {
   "cell_type": "code",
   "execution_count": 39,
   "id": "7bca1f6c-e988-4dc8-8f7b-b6dc2e88c4de",
   "metadata": {
    "tags": []
   },
   "outputs": [
    {
     "name": "stdout",
     "output_type": "stream",
     "text": [
      "------!"
     ]
    }
   ],
   "source": [
    "xgboost_regressor = xgboost.deploy(initial_instance_count = 1, instance_type = 'ml.m4.xlarge')"
   ]
  },
  {
   "cell_type": "code",
   "execution_count": 40,
   "id": "78c9561b-a84a-4e4d-9305-40f04d9fcb45",
   "metadata": {
    "tags": []
   },
   "outputs": [],
   "source": [
    "# tipo de entrada para o endpoint\n",
    "from sagemaker.serializers import CSVSerializer\n",
    "xgboost_regressor.serializer = CSVSerializer()"
   ]
  },
  {
   "cell_type": "code",
   "execution_count": 41,
   "id": "ec6e1398-3647-4bae-b78c-3486ce00d1fb",
   "metadata": {
    "tags": []
   },
   "outputs": [],
   "source": [
    "# previsoes = xgboost_regressor.predict(X_teste)\n",
    "# previsoes\n",
    "\n",
    "# # notamos que esta em formato binario"
   ]
  },
  {
   "cell_type": "code",
   "execution_count": 51,
   "id": "c67f8839-875a-46a6-a829-23ae111874ca",
   "metadata": {
    "tags": []
   },
   "outputs": [
    {
     "data": {
      "text/plain": [
       "array([715760.25 , 759194.25 , 125879.664, ..., 298663.34 , 468468.56 ,\n",
       "       292532.9  ], dtype=float32)"
      ]
     },
     "execution_count": 51,
     "metadata": {},
     "output_type": "execute_result"
    }
   ],
   "source": [
    "y_pred = np.array(xgboost_regressor.predict(X_teste).decode('utf-8').split(',')).astype(np.float32)\n",
    "y_pred"
   ]
  },
  {
   "cell_type": "code",
   "execution_count": 54,
   "id": "0cbe8378-2675-4b1e-9a6c-83ac4048a596",
   "metadata": {
    "tags": []
   },
   "outputs": [
    {
     "name": "stdout",
     "output_type": "stream",
     "text": [
      "O valor de R² para esse modelo XGboost é 0.8903\n",
      "O valor de MAE para esse modelo XGboost é 0.8903\n",
      "O valor de EQM para esse modelo XGboost é 14874845482.5754\n",
      "O valor de REQM para esse modelo XGboost é 121962.4757\n"
     ]
    }
   ],
   "source": [
    "# avaliando as metricas\n",
    "\n",
    "from sklearn.metrics import r2_score\n",
    "from sklearn.metrics import mean_squared_error\n",
    "from sklearn.metrics import mean_absolute_error\n",
    "\n",
    "\n",
    "MAE = mean_absolute_error(y_teste,previsoes).round(4)\n",
    "R2  = r2_score(y_teste,y_pred).round(4)\n",
    "EQM = mean_squared_error(y_teste,y_pred).round(4) #mais proximo de zero, melhor\n",
    "REQM  = np.sqrt(EQM).round(4) #calcula a distancia de um ponto em relação a linha, logo verifica a concentração dos dados proximo a linha ajustada\n",
    "print('O valor de R² para esse modelo XGboost é {}'.format(R2.round(4)))\n",
    "print('O valor de MAE para esse modelo XGboost é {}'.format(R2.round(4)))\n",
    "print('O valor de EQM para esse modelo XGboost é {}'.format(EQM))\n",
    "print('O valor de REQM para esse modelo XGboost é {}'.format(REQM))\n",
    "\n",
    "\n"
   ]
  },
  {
   "cell_type": "markdown",
   "id": "fa8d6b01-7da4-47e1-a90d-a8cc052b08a2",
   "metadata": {
    "jp-MarkdownHeadingCollapsed": true,
    "tags": []
   },
   "source": [
    "# Tuning"
   ]
  },
  {
   "cell_type": "code",
   "execution_count": 44,
   "id": "83c4c4a6-a874-4aa2-9052-f1a11c5d0aa9",
   "metadata": {},
   "outputs": [],
   "source": [
    "# https://docs.aws.amazon.com/sagemaker/latest/dg/xgboost_hyperparameters.html\n",
    "tuning_job_config = {\n",
    "    \"ParameterRanges\": {\n",
    "      \"CategoricalParameterRanges\": [],\n",
    "      \"ContinuousParameterRanges\": [\n",
    "        {\n",
    "          \"MaxValue\": \"1\",\n",
    "          \"MinValue\": \"0\",\n",
    "          \"Name\": \"eta\"\n",
    "        },\n",
    "        {\n",
    "          \"MaxValue\": \"2\",\n",
    "          \"MinValue\": \"0\",\n",
    "          \"Name\": \"alpha\"\n",
    "        },\n",
    "        {\n",
    "          \"MaxValue\": \"10\",\n",
    "          \"MinValue\": \"1\",\n",
    "          \"Name\": \"min_child_weight\"\n",
    "        }\n",
    "      ],\n",
    "      \"IntegerParameterRanges\": [\n",
    "        {\n",
    "          \"MaxValue\": \"10\",\n",
    "          \"MinValue\": \"1\",\n",
    "          \"Name\": \"max_depth\"\n",
    "        }\n",
    "      ],\n",
    "      \"IntegerParameterRanges\": [\n",
    "        {\n",
    "          \"MaxValue\": \"300\",\n",
    "          \"MinValue\": \"50\",\n",
    "          \"Name\": \"num_round\"\n",
    "        }\n",
    "      ]\n",
    "    },\n",
    "    \"ResourceLimits\": {\n",
    "      \"MaxNumberOfTrainingJobs\": 9,\n",
    "      \"MaxParallelTrainingJobs\": 3\n",
    "    },\n",
    "    \"Strategy\": \"Bayesian\",\n",
    "    \"HyperParameterTuningJobObjective\": {\n",
    "      \"MetricName\": \"validation:rmse\",\n",
    "      \"Type\": \"Minimize\"\n",
    "    }\n",
    "  }"
   ]
  },
  {
   "cell_type": "code",
   "execution_count": 45,
   "id": "e2d8e427-5b5f-4cdc-9d03-0ff21aac73aa",
   "metadata": {
    "tags": []
   },
   "outputs": [],
   "source": [
    "training_job_definition = {\n",
    "    \"AlgorithmSpecification\": {\n",
    "      \"TrainingImage\": container,\n",
    "      \"TrainingInputMode\": \"File\"\n",
    "    },\n",
    "    \"InputDataConfig\": [\n",
    "      {\n",
    "        \"ChannelName\": \"train\",\n",
    "        \"CompressionType\": \"None\",\n",
    "        \"ContentType\": \"csv\",\n",
    "        \"DataSource\": {\n",
    "          \"S3DataSource\": {\n",
    "            \"S3DataDistributionType\": \"FullyReplicated\",\n",
    "            \"S3DataType\": \"S3Prefix\",\n",
    "            \"S3Uri\": s3_train_data\n",
    "          }\n",
    "        }\n",
    "      },\n",
    "      {\n",
    "        \"ChannelName\": \"validation\",\n",
    "        \"CompressionType\": \"None\",\n",
    "        \"ContentType\": \"csv\",\n",
    "        \"DataSource\": {\n",
    "          \"S3DataSource\": {\n",
    "            \"S3DataDistributionType\": \"FullyReplicated\",\n",
    "            \"S3DataType\": \"S3Prefix\",\n",
    "            \"S3Uri\": s3_test_data\n",
    "          }\n",
    "        }\n",
    "      }\n",
    "    ],\n",
    "    \"OutputDataConfig\": {\n",
    "      \"S3OutputPath\": \"s3://{}/{}/output\".format(bucket,subpasta_modelo)\n",
    "    },\n",
    "    \"ResourceConfig\": {\n",
    "      \"InstanceCount\": 2,\n",
    "      \"InstanceType\": \"ml.c4.2xlarge\",\n",
    "      \"VolumeSizeInGB\": 10\n",
    "    },\n",
    "    \"RoleArn\": role,\n",
    "    \"StaticHyperParameters\": {\n",
    "      \"eval_metric\": \"rmse\",\n",
    "      \"objective\": \"reg:linear\",\n",
    "      \"rate_drop\": \"0.3\",\n",
    "      \"tweedie_variance_power\": \"1.4\"\n",
    "    },\n",
    "    \"StoppingCondition\": {\n",
    "      \"MaxRuntimeInSeconds\": 43200\n",
    "    }\n",
    "}"
   ]
  },
  {
   "cell_type": "code",
   "execution_count": 46,
   "id": "5f09e6d5-59a0-48f6-83d8-2a9756852f83",
   "metadata": {
    "tags": []
   },
   "outputs": [
    {
     "data": {
      "text/plain": [
       "{'HyperParameterTuningJobArn': 'arn:aws:sagemaker:sa-east-1:089538278909:hyper-parameter-tuning-job/xgboosttuninghouses',\n",
       " 'ResponseMetadata': {'RequestId': '2205c5e5-f714-41e0-9102-02b8660f606a',\n",
       "  'HTTPStatusCode': 200,\n",
       "  'HTTPHeaders': {'x-amzn-requestid': '2205c5e5-f714-41e0-9102-02b8660f606a',\n",
       "   'content-type': 'application/x-amz-json-1.1',\n",
       "   'content-length': '120',\n",
       "   'date': 'Sat, 28 Jan 2023 18:40:22 GMT'},\n",
       "  'RetryAttempts': 0}}"
      ]
     },
     "execution_count": 46,
     "metadata": {},
     "output_type": "execute_result"
    }
   ],
   "source": [
    "# aplicando o tuning\n",
    "smclient = boto3.client('sagemaker')\n",
    "smclient.create_hyper_parameter_tuning_job(HyperParameterTuningJobName = \"xgboosttuninghouses\",\n",
    "                                          HyperParameterTuningJobConfig = tuning_job_config,\n",
    "                                          TrainingJobDefinition = training_job_definition)"
   ]
  },
  {
   "cell_type": "markdown",
   "id": "4635d08b-5b22-45e7-98aa-5ed684fe50b3",
   "metadata": {},
   "source": [
    "# Modelo otimizado"
   ]
  },
  {
   "cell_type": "code",
   "execution_count": 47,
   "id": "0adf1c01-18bc-4059-bc76-ff4c7750e00c",
   "metadata": {
    "tags": []
   },
   "outputs": [],
   "source": [
    "container = image_uris.retrieve(framework='xgboost',region=boto3.Session().region_name,version='latest')\n",
    "xgboost_tuning = sagemaker.estimator.Estimator(image_uri = container,\n",
    "                                        role = role, \n",
    "                                        instance_count = 1, \n",
    "                                        instance_type = 'ml.m5.2xlarge',\n",
    "                                        output_path = output_location,\n",
    "                                        sagemaker_session = session)\n",
    "xgboost_tuning.set_hyperparameters(num_round = 81, eta = 0.427558906693159,\n",
    "                                   min_child_weight = 1.382887652252386,\n",
    "                                   alpha = 0.9363684991640178, tweedie_variance_power = 1.4,\n",
    "                                   rate_drop = 0.3)"
   ]
  },
  {
   "cell_type": "code",
   "execution_count": 48,
   "id": "ceb365fd-9411-41c2-b9d3-68b7cec745f8",
   "metadata": {
    "tags": []
   },
   "outputs": [
    {
     "name": "stdout",
     "output_type": "stream",
     "text": [
      "2023-01-28 19:03:43 Starting - Starting the training job...\n",
      "2023-01-28 19:04:07 Starting - Preparing the instances for trainingProfilerReport-1674932623: InProgress\n",
      "......\n",
      "2023-01-28 19:05:07 Downloading - Downloading input data.....\u001b[34mArguments: train\u001b[0m\n",
      "\u001b[34m[2023-01-28:19:05:56:INFO] Running standalone xgboost training.\u001b[0m\n",
      "\u001b[34m[2023-01-28:19:05:56:INFO] File size need to be processed in the node: 1.55mb. Available memory size in the node: 24027.32mb\u001b[0m\n",
      "\u001b[34m[2023-01-28:19:05:56:INFO] Determined delimiter of CSV input is ','\u001b[0m\n",
      "\u001b[34m[19:05:56] S3DistributionType set as FullyReplicated\u001b[0m\n",
      "\u001b[34m[19:05:56] 15129x16 matrix with 242064 entries loaded from /opt/ml/input/data/train?format=csv&label_column=0&delimiter=,\u001b[0m\n",
      "\u001b[34m[2023-01-28:19:05:56:INFO] Determined delimiter of CSV input is ','\u001b[0m\n",
      "\u001b[34m[19:05:56] S3DistributionType set as FullyReplicated\u001b[0m\n",
      "\u001b[34m[19:05:56] 6484x16 matrix with 103744 entries loaded from /opt/ml/input/data/validation?format=csv&label_column=0&delimiter=,\u001b[0m\n",
      "\u001b[34m[19:05:56] src/tree/updater_prune.cc:74: tree pruning end, 1 roots, 114 extra nodes, 0 pruned nodes, max_depth=6\u001b[0m\n",
      "\u001b[34m[0]#011train-rmse:398275#011validation-rmse:415806\u001b[0m\n",
      "\u001b[34m[19:05:56] src/tree/updater_prune.cc:74: tree pruning end, 1 roots, 96 extra nodes, 0 pruned nodes, max_depth=6\u001b[0m\n",
      "\u001b[34m[1]#011train-rmse:260492#011validation-rmse:277895\u001b[0m\n",
      "\u001b[34m[19:05:56] src/tree/updater_prune.cc:74: tree pruning end, 1 roots, 102 extra nodes, 0 pruned nodes, max_depth=6\u001b[0m\n",
      "\u001b[34m[2]#011train-rmse:186096#011validation-rmse:206773\u001b[0m\n",
      "\u001b[34m[19:05:56] src/tree/updater_prune.cc:74: tree pruning end, 1 roots, 108 extra nodes, 0 pruned nodes, max_depth=6\u001b[0m\n",
      "\u001b[34m[3]#011train-rmse:147566#011validation-rmse:171523\u001b[0m\n",
      "\u001b[34m[19:05:56] src/tree/updater_prune.cc:74: tree pruning end, 1 roots, 104 extra nodes, 0 pruned nodes, max_depth=6\u001b[0m\n",
      "\u001b[34m[4]#011train-rmse:126908#011validation-rmse:153941\u001b[0m\n",
      "\u001b[34m[19:05:56] src/tree/updater_prune.cc:74: tree pruning end, 1 roots, 98 extra nodes, 0 pruned nodes, max_depth=6\u001b[0m\n",
      "\u001b[34m[5]#011train-rmse:116101#011validation-rmse:145922\u001b[0m\n",
      "\u001b[34m[19:05:56] src/tree/updater_prune.cc:74: tree pruning end, 1 roots, 98 extra nodes, 0 pruned nodes, max_depth=6\u001b[0m\n",
      "\u001b[34m[6]#011train-rmse:108392#011validation-rmse:140307\u001b[0m\n",
      "\u001b[34m[19:05:56] src/tree/updater_prune.cc:74: tree pruning end, 1 roots, 74 extra nodes, 0 pruned nodes, max_depth=6\u001b[0m\n",
      "\u001b[34m[7]#011train-rmse:104842#011validation-rmse:138787\u001b[0m\n",
      "\u001b[34m[19:05:56] src/tree/updater_prune.cc:74: tree pruning end, 1 roots, 88 extra nodes, 0 pruned nodes, max_depth=6\u001b[0m\n",
      "\u001b[34m[8]#011train-rmse:101898#011validation-rmse:136849\u001b[0m\n",
      "\u001b[34m[19:05:56] src/tree/updater_prune.cc:74: tree pruning end, 1 roots, 70 extra nodes, 0 pruned nodes, max_depth=6\u001b[0m\n",
      "\u001b[34m[9]#011train-rmse:100343#011validation-rmse:136829\u001b[0m\n",
      "\u001b[34m[19:05:56] src/tree/updater_prune.cc:74: tree pruning end, 1 roots, 106 extra nodes, 0 pruned nodes, max_depth=6\u001b[0m\n",
      "\u001b[34m[10]#011train-rmse:98664.4#011validation-rmse:136048\u001b[0m\n",
      "\u001b[34m[19:05:56] src/tree/updater_prune.cc:74: tree pruning end, 1 roots, 104 extra nodes, 0 pruned nodes, max_depth=6\u001b[0m\n",
      "\u001b[34m[11]#011train-rmse:96195.3#011validation-rmse:134202\u001b[0m\n",
      "\u001b[34m[19:05:56] src/tree/updater_prune.cc:74: tree pruning end, 1 roots, 72 extra nodes, 0 pruned nodes, max_depth=6\u001b[0m\n",
      "\u001b[34m[12]#011train-rmse:95126.4#011validation-rmse:133762\u001b[0m\n",
      "\u001b[34m[19:05:56] src/tree/updater_prune.cc:74: tree pruning end, 1 roots, 98 extra nodes, 0 pruned nodes, max_depth=6\u001b[0m\n",
      "\u001b[34m[13]#011train-rmse:93501.1#011validation-rmse:133573\u001b[0m\n",
      "\u001b[34m[19:05:56] src/tree/updater_prune.cc:74: tree pruning end, 1 roots, 88 extra nodes, 0 pruned nodes, max_depth=6\u001b[0m\n",
      "\u001b[34m[14]#011train-rmse:92493.6#011validation-rmse:134402\u001b[0m\n",
      "\u001b[34m[19:05:56] src/tree/updater_prune.cc:74: tree pruning end, 1 roots, 102 extra nodes, 0 pruned nodes, max_depth=6\u001b[0m\n",
      "\u001b[34m[15]#011train-rmse:91396#011validation-rmse:134029\u001b[0m\n",
      "\u001b[34m[19:05:56] src/tree/updater_prune.cc:74: tree pruning end, 1 roots, 116 extra nodes, 0 pruned nodes, max_depth=6\u001b[0m\n",
      "\u001b[34m[16]#011train-rmse:89657.2#011validation-rmse:133175\u001b[0m\n",
      "\u001b[34m[19:05:56] src/tree/updater_prune.cc:74: tree pruning end, 1 roots, 98 extra nodes, 0 pruned nodes, max_depth=6\u001b[0m\n",
      "\u001b[34m[17]#011train-rmse:88502#011validation-rmse:132881\u001b[0m\n",
      "\u001b[34m[19:05:56] src/tree/updater_prune.cc:74: tree pruning end, 1 roots, 114 extra nodes, 0 pruned nodes, max_depth=6\u001b[0m\n",
      "\u001b[34m[18]#011train-rmse:86648.2#011validation-rmse:132523\u001b[0m\n",
      "\u001b[34m[19:05:56] src/tree/updater_prune.cc:74: tree pruning end, 1 roots, 120 extra nodes, 0 pruned nodes, max_depth=6\u001b[0m\n",
      "\u001b[34m[19]#011train-rmse:84946.4#011validation-rmse:131444\u001b[0m\n",
      "\u001b[34m[19:05:56] src/tree/updater_prune.cc:74: tree pruning end, 1 roots, 68 extra nodes, 0 pruned nodes, max_depth=6\u001b[0m\n",
      "\u001b[34m[20]#011train-rmse:84241.9#011validation-rmse:131368\u001b[0m\n",
      "\u001b[34m[19:05:56] src/tree/updater_prune.cc:74: tree pruning end, 1 roots, 110 extra nodes, 0 pruned nodes, max_depth=6\u001b[0m\n",
      "\u001b[34m[21]#011train-rmse:82365.1#011validation-rmse:130423\u001b[0m\n",
      "\u001b[34m[19:05:56] src/tree/updater_prune.cc:74: tree pruning end, 1 roots, 102 extra nodes, 0 pruned nodes, max_depth=6\u001b[0m\n",
      "\u001b[34m[22]#011train-rmse:81437.6#011validation-rmse:130097\u001b[0m\n",
      "\u001b[34m[19:05:56] src/tree/updater_prune.cc:74: tree pruning end, 1 roots, 114 extra nodes, 0 pruned nodes, max_depth=6\u001b[0m\n",
      "\u001b[34m[23]#011train-rmse:80214.3#011validation-rmse:130214\u001b[0m\n",
      "\u001b[34m[19:05:56] src/tree/updater_prune.cc:74: tree pruning end, 1 roots, 92 extra nodes, 0 pruned nodes, max_depth=6\u001b[0m\n",
      "\u001b[34m[24]#011train-rmse:79588.7#011validation-rmse:130205\u001b[0m\n",
      "\u001b[34m[19:05:56] src/tree/updater_prune.cc:74: tree pruning end, 1 roots, 46 extra nodes, 0 pruned nodes, max_depth=6\u001b[0m\n",
      "\u001b[34m[25]#011train-rmse:79349.8#011validation-rmse:130229\u001b[0m\n",
      "\u001b[34m[19:05:56] src/tree/updater_prune.cc:74: tree pruning end, 1 roots, 102 extra nodes, 0 pruned nodes, max_depth=6\u001b[0m\n",
      "\u001b[34m[26]#011train-rmse:78325.6#011validation-rmse:129925\u001b[0m\n",
      "\u001b[34m[19:05:56] src/tree/updater_prune.cc:74: tree pruning end, 1 roots, 110 extra nodes, 0 pruned nodes, max_depth=6\u001b[0m\n",
      "\u001b[34m[27]#011train-rmse:76906.2#011validation-rmse:129398\u001b[0m\n",
      "\u001b[34m[19:05:56] src/tree/updater_prune.cc:74: tree pruning end, 1 roots, 84 extra nodes, 0 pruned nodes, max_depth=6\u001b[0m\n",
      "\u001b[34m[28]#011train-rmse:76332.2#011validation-rmse:129410\u001b[0m\n",
      "\u001b[34m[19:05:56] src/tree/updater_prune.cc:74: tree pruning end, 1 roots, 52 extra nodes, 0 pruned nodes, max_depth=6\u001b[0m\n",
      "\u001b[34m[29]#011train-rmse:76050.2#011validation-rmse:129112\u001b[0m\n",
      "\u001b[34m[19:05:56] src/tree/updater_prune.cc:74: tree pruning end, 1 roots, 96 extra nodes, 0 pruned nodes, max_depth=6\u001b[0m\n",
      "\u001b[34m[30]#011train-rmse:75368.5#011validation-rmse:129233\u001b[0m\n",
      "\u001b[34m[19:05:56] src/tree/updater_prune.cc:74: tree pruning end, 1 roots, 96 extra nodes, 0 pruned nodes, max_depth=6\u001b[0m\n",
      "\u001b[34m[31]#011train-rmse:74743.3#011validation-rmse:129468\u001b[0m\n",
      "\u001b[34m[19:05:56] src/tree/updater_prune.cc:74: tree pruning end, 1 roots, 100 extra nodes, 0 pruned nodes, max_depth=6\u001b[0m\n",
      "\u001b[34m[32]#011train-rmse:74274.7#011validation-rmse:129520\u001b[0m\n",
      "\u001b[34m[19:05:56] src/tree/updater_prune.cc:74: tree pruning end, 1 roots, 66 extra nodes, 0 pruned nodes, max_depth=6\u001b[0m\n",
      "\u001b[34m[33]#011train-rmse:73978.3#011validation-rmse:129619\u001b[0m\n",
      "\u001b[34m[19:05:56] src/tree/updater_prune.cc:74: tree pruning end, 1 roots, 122 extra nodes, 0 pruned nodes, max_depth=6\u001b[0m\n",
      "\u001b[34m[34]#011train-rmse:73178.5#011validation-rmse:129456\u001b[0m\n",
      "\u001b[34m[19:05:56] src/tree/updater_prune.cc:74: tree pruning end, 1 roots, 104 extra nodes, 0 pruned nodes, max_depth=6\u001b[0m\n",
      "\u001b[34m[35]#011train-rmse:72521.1#011validation-rmse:129158\u001b[0m\n",
      "\u001b[34m[19:05:56] src/tree/updater_prune.cc:74: tree pruning end, 1 roots, 86 extra nodes, 0 pruned nodes, max_depth=6\u001b[0m\n",
      "\u001b[34m[36]#011train-rmse:72181.1#011validation-rmse:129179\u001b[0m\n",
      "\u001b[34m[19:05:56] src/tree/updater_prune.cc:74: tree pruning end, 1 roots, 114 extra nodes, 0 pruned nodes, max_depth=6\u001b[0m\n",
      "\u001b[34m[37]#011train-rmse:71122.6#011validation-rmse:128989\u001b[0m\n",
      "\u001b[34m[19:05:56] src/tree/updater_prune.cc:74: tree pruning end, 1 roots, 84 extra nodes, 0 pruned nodes, max_depth=6\u001b[0m\n",
      "\u001b[34m[38]#011train-rmse:70680.8#011validation-rmse:128910\u001b[0m\n",
      "\u001b[34m[19:05:56] src/tree/updater_prune.cc:74: tree pruning end, 1 roots, 110 extra nodes, 0 pruned nodes, max_depth=6\u001b[0m\n",
      "\u001b[34m[39]#011train-rmse:70188.2#011validation-rmse:128894\u001b[0m\n",
      "\u001b[34m[19:05:56] src/tree/updater_prune.cc:74: tree pruning end, 1 roots, 48 extra nodes, 0 pruned nodes, max_depth=6\u001b[0m\n",
      "\u001b[34m[40]#011train-rmse:69910.3#011validation-rmse:128933\u001b[0m\n",
      "\u001b[34m[19:05:56] src/tree/updater_prune.cc:74: tree pruning end, 1 roots, 80 extra nodes, 0 pruned nodes, max_depth=6\u001b[0m\n",
      "\u001b[34m[41]#011train-rmse:69585#011validation-rmse:128944\u001b[0m\n",
      "\u001b[34m[19:05:56] src/tree/updater_prune.cc:74: tree pruning end, 1 roots, 42 extra nodes, 0 pruned nodes, max_depth=6\u001b[0m\n",
      "\u001b[34m[42]#011train-rmse:69429.1#011validation-rmse:128902\u001b[0m\n",
      "\u001b[34m[19:05:56] src/tree/updater_prune.cc:74: tree pruning end, 1 roots, 112 extra nodes, 0 pruned nodes, max_depth=6\u001b[0m\n",
      "\u001b[34m[43]#011train-rmse:68641.5#011validation-rmse:128799\u001b[0m\n",
      "\u001b[34m[19:05:56] src/tree/updater_prune.cc:74: tree pruning end, 1 roots, 124 extra nodes, 0 pruned nodes, max_depth=6\u001b[0m\n",
      "\u001b[34m[44]#011train-rmse:67625#011validation-rmse:128198\u001b[0m\n",
      "\u001b[34m[19:05:56] src/tree/updater_prune.cc:74: tree pruning end, 1 roots, 56 extra nodes, 0 pruned nodes, max_depth=6\u001b[0m\n",
      "\u001b[34m[45]#011train-rmse:67373.2#011validation-rmse:128321\u001b[0m\n",
      "\u001b[34m[19:05:56] src/tree/updater_prune.cc:74: tree pruning end, 1 roots, 96 extra nodes, 0 pruned nodes, max_depth=6\u001b[0m\n",
      "\u001b[34m[46]#011train-rmse:67161.5#011validation-rmse:128298\u001b[0m\n",
      "\u001b[34m[19:05:56] src/tree/updater_prune.cc:74: tree pruning end, 1 roots, 96 extra nodes, 0 pruned nodes, max_depth=6\u001b[0m\n",
      "\u001b[34m[47]#011train-rmse:66637.2#011validation-rmse:128288\u001b[0m\n",
      "\u001b[34m[19:05:56] src/tree/updater_prune.cc:74: tree pruning end, 1 roots, 108 extra nodes, 0 pruned nodes, max_depth=6\u001b[0m\n",
      "\u001b[34m[48]#011train-rmse:66063.3#011validation-rmse:128211\u001b[0m\n",
      "\u001b[34m[19:05:56] src/tree/updater_prune.cc:74: tree pruning end, 1 roots, 92 extra nodes, 0 pruned nodes, max_depth=6\u001b[0m\n",
      "\u001b[34m[49]#011train-rmse:65750#011validation-rmse:128239\u001b[0m\n",
      "\u001b[34m[19:05:56] src/tree/updater_prune.cc:74: tree pruning end, 1 roots, 84 extra nodes, 0 pruned nodes, max_depth=6\u001b[0m\n",
      "\u001b[34m[50]#011train-rmse:65302.5#011validation-rmse:128170\u001b[0m\n",
      "\u001b[34m[19:05:56] src/tree/updater_prune.cc:74: tree pruning end, 1 roots, 116 extra nodes, 0 pruned nodes, max_depth=6\u001b[0m\n",
      "\u001b[34m[51]#011train-rmse:64689.2#011validation-rmse:128232\u001b[0m\n",
      "\u001b[34m[19:05:56] src/tree/updater_prune.cc:74: tree pruning end, 1 roots, 70 extra nodes, 0 pruned nodes, max_depth=6\u001b[0m\n",
      "\u001b[34m[52]#011train-rmse:64288.9#011validation-rmse:128096\u001b[0m\n",
      "\u001b[34m[19:05:56] src/tree/updater_prune.cc:74: tree pruning end, 1 roots, 90 extra nodes, 0 pruned nodes, max_depth=6\u001b[0m\n",
      "\u001b[34m[53]#011train-rmse:63960#011validation-rmse:128055\u001b[0m\n",
      "\u001b[34m[19:05:56] src/tree/updater_prune.cc:74: tree pruning end, 1 roots, 92 extra nodes, 0 pruned nodes, max_depth=6\u001b[0m\n",
      "\u001b[34m[54]#011train-rmse:63507.1#011validation-rmse:128118\u001b[0m\n",
      "\u001b[34m[19:05:56] src/tree/updater_prune.cc:74: tree pruning end, 1 roots, 98 extra nodes, 0 pruned nodes, max_depth=6\u001b[0m\n",
      "\u001b[34m[55]#011train-rmse:63211.8#011validation-rmse:128145\u001b[0m\n",
      "\u001b[34m[19:05:56] src/tree/updater_prune.cc:74: tree pruning end, 1 roots, 82 extra nodes, 0 pruned nodes, max_depth=6\u001b[0m\n",
      "\u001b[34m[56]#011train-rmse:63091#011validation-rmse:128167\u001b[0m\n",
      "\u001b[34m[19:05:56] src/tree/updater_prune.cc:74: tree pruning end, 1 roots, 76 extra nodes, 0 pruned nodes, max_depth=6\u001b[0m\n",
      "\u001b[34m[57]#011train-rmse:62887.1#011validation-rmse:128235\u001b[0m\n",
      "\u001b[34m[19:05:56] src/tree/updater_prune.cc:74: tree pruning end, 1 roots, 66 extra nodes, 0 pruned nodes, max_depth=6\u001b[0m\n",
      "\u001b[34m[58]#011train-rmse:62648.3#011validation-rmse:128282\u001b[0m\n",
      "\u001b[34m[19:05:56] src/tree/updater_prune.cc:74: tree pruning end, 1 roots, 112 extra nodes, 0 pruned nodes, max_depth=6\u001b[0m\n",
      "\u001b[34m[59]#011train-rmse:62091.5#011validation-rmse:128318\u001b[0m\n",
      "\u001b[34m[19:05:56] src/tree/updater_prune.cc:74: tree pruning end, 1 roots, 96 extra nodes, 0 pruned nodes, max_depth=6\u001b[0m\n",
      "\u001b[34m[60]#011train-rmse:61747#011validation-rmse:128401\u001b[0m\n",
      "\u001b[34m[19:05:56] src/tree/updater_prune.cc:74: tree pruning end, 1 roots, 42 extra nodes, 0 pruned nodes, max_depth=6\u001b[0m\n",
      "\u001b[34m[61]#011train-rmse:61689.2#011validation-rmse:128471\u001b[0m\n",
      "\u001b[34m[19:05:56] src/tree/updater_prune.cc:74: tree pruning end, 1 roots, 84 extra nodes, 0 pruned nodes, max_depth=6\u001b[0m\n",
      "\u001b[34m[62]#011train-rmse:61340.7#011validation-rmse:128462\u001b[0m\n",
      "\u001b[34m[19:05:56] src/tree/updater_prune.cc:74: tree pruning end, 1 roots, 88 extra nodes, 0 pruned nodes, max_depth=6\u001b[0m\n",
      "\u001b[34m[63]#011train-rmse:60876.9#011validation-rmse:128337\u001b[0m\n",
      "\u001b[34m[19:05:56] src/tree/updater_prune.cc:74: tree pruning end, 1 roots, 70 extra nodes, 0 pruned nodes, max_depth=6\u001b[0m\n",
      "\u001b[34m[64]#011train-rmse:60758.9#011validation-rmse:128347\u001b[0m\n",
      "\u001b[34m[19:05:56] src/tree/updater_prune.cc:74: tree pruning end, 1 roots, 66 extra nodes, 0 pruned nodes, max_depth=6\u001b[0m\n",
      "\u001b[34m[65]#011train-rmse:60535.8#011validation-rmse:128387\u001b[0m\n",
      "\u001b[34m[19:05:56] src/tree/updater_prune.cc:74: tree pruning end, 1 roots, 126 extra nodes, 0 pruned nodes, max_depth=6\u001b[0m\n",
      "\u001b[34m[66]#011train-rmse:59970.6#011validation-rmse:128234\u001b[0m\n",
      "\u001b[34m[19:05:56] src/tree/updater_prune.cc:74: tree pruning end, 1 roots, 120 extra nodes, 0 pruned nodes, max_depth=6\u001b[0m\n",
      "\u001b[34m[67]#011train-rmse:59481.8#011validation-rmse:128004\u001b[0m\n",
      "\u001b[34m[19:05:56] src/tree/updater_prune.cc:74: tree pruning end, 1 roots, 120 extra nodes, 0 pruned nodes, max_depth=6\u001b[0m\n",
      "\u001b[34m[68]#011train-rmse:58982.4#011validation-rmse:128024\u001b[0m\n",
      "\u001b[34m[19:05:57] src/tree/updater_prune.cc:74: tree pruning end, 1 roots, 106 extra nodes, 0 pruned nodes, max_depth=6\u001b[0m\n",
      "\u001b[34m[69]#011train-rmse:58589.3#011validation-rmse:128108\u001b[0m\n",
      "\u001b[34m[19:05:57] src/tree/updater_prune.cc:74: tree pruning end, 1 roots, 94 extra nodes, 0 pruned nodes, max_depth=6\u001b[0m\n",
      "\u001b[34m[70]#011train-rmse:58237.4#011validation-rmse:128198\u001b[0m\n",
      "\u001b[34m[19:05:57] src/tree/updater_prune.cc:74: tree pruning end, 1 roots, 96 extra nodes, 0 pruned nodes, max_depth=6\u001b[0m\n",
      "\u001b[34m[71]#011train-rmse:57973.6#011validation-rmse:128231\u001b[0m\n",
      "\u001b[34m[19:05:57] src/tree/updater_prune.cc:74: tree pruning end, 1 roots, 74 extra nodes, 0 pruned nodes, max_depth=6\u001b[0m\n",
      "\u001b[34m[72]#011train-rmse:57790.9#011validation-rmse:128148\u001b[0m\n",
      "\u001b[34m[19:05:57] src/tree/updater_prune.cc:74: tree pruning end, 1 roots, 106 extra nodes, 0 pruned nodes, max_depth=6\u001b[0m\n",
      "\u001b[34m[73]#011train-rmse:57407#011validation-rmse:128144\u001b[0m\n",
      "\u001b[34m[19:05:57] src/tree/updater_prune.cc:74: tree pruning end, 1 roots, 100 extra nodes, 0 pruned nodes, max_depth=6\u001b[0m\n",
      "\u001b[34m[74]#011train-rmse:57122.4#011validation-rmse:128301\u001b[0m\n",
      "\u001b[34m[19:05:57] src/tree/updater_prune.cc:74: tree pruning end, 1 roots, 74 extra nodes, 0 pruned nodes, max_depth=6\u001b[0m\n",
      "\u001b[34m[75]#011train-rmse:56969.3#011validation-rmse:128252\u001b[0m\n",
      "\u001b[34m[19:05:57] src/tree/updater_prune.cc:74: tree pruning end, 1 roots, 104 extra nodes, 0 pruned nodes, max_depth=6\u001b[0m\n",
      "\u001b[34m[76]#011train-rmse:56612.4#011validation-rmse:128176\u001b[0m\n",
      "\u001b[34m[19:05:57] src/tree/updater_prune.cc:74: tree pruning end, 1 roots, 104 extra nodes, 0 pruned nodes, max_depth=6\u001b[0m\n",
      "\u001b[34m[77]#011train-rmse:56331.9#011validation-rmse:128226\u001b[0m\n",
      "\u001b[34m[19:05:57] src/tree/updater_prune.cc:74: tree pruning end, 1 roots, 62 extra nodes, 0 pruned nodes, max_depth=6\u001b[0m\n",
      "\u001b[34m[78]#011train-rmse:56236.4#011validation-rmse:128201\u001b[0m\n",
      "\u001b[34m[19:05:57] src/tree/updater_prune.cc:74: tree pruning end, 1 roots, 48 extra nodes, 0 pruned nodes, max_depth=6\u001b[0m\n",
      "\u001b[34m[79]#011train-rmse:56210.4#011validation-rmse:128168\u001b[0m\n",
      "\u001b[34m[19:05:57] src/tree/updater_prune.cc:74: tree pruning end, 1 roots, 26 extra nodes, 0 pruned nodes, max_depth=6\u001b[0m\n",
      "\u001b[34m[80]#011train-rmse:56178.4#011validation-rmse:128159\u001b[0m\n",
      "\n",
      "2023-01-28 19:06:07 Training - Training image download completed. Training in progress.\n",
      "2023-01-28 19:06:07 Uploading - Uploading generated training model\n",
      "2023-01-28 19:06:27 Completed - Training job completed\n",
      "Training seconds: 77\n",
      "Billable seconds: 77\n"
     ]
    }
   ],
   "source": [
    "xgboost_tuning.fit(data_channels)"
   ]
  },
  {
   "cell_type": "code",
   "execution_count": 49,
   "id": "99f1c16c-e608-4cbf-aa62-0a3730da72aa",
   "metadata": {
    "tags": []
   },
   "outputs": [
    {
     "name": "stdout",
     "output_type": "stream",
     "text": [
      "------!"
     ]
    }
   ],
   "source": [
    "xgboost_regressor_tuning = xgboost_tuning.deploy(initial_instance_count = 1, instance_type = 'ml.m4.xlarge')"
   ]
  },
  {
   "cell_type": "code",
   "execution_count": 50,
   "id": "c3245be1-70f3-4fce-97eb-4458aad2fa62",
   "metadata": {
    "tags": []
   },
   "outputs": [],
   "source": [
    "xgboost_regressor_tuning.serializer = CSVSerializer()\n",
    "previsoes = np.array(xgboost_regressor_tuning.predict(X_teste).decode('utf-8').split(',')).astype(np.float32)"
   ]
  },
  {
   "cell_type": "code",
   "execution_count": null,
   "id": "2b968721-8ac5-469d-a8bb-21c97e5e1d26",
   "metadata": {},
   "outputs": [],
   "source": [
    "# avaliando as metricas\n",
    "\n",
    "from sklearn.metrics import r2_score\n",
    "from sklearn.metrics import mean_squared_error\n",
    "from sklearn.metrics import mean_absolute_error\n",
    "\n",
    "MAE = mean_absolute_errory_teste,previsoes).round(4)\n",
    "R2  = r2_score(y_teste,previsoes).round(4)\n",
    "EQM = mean_squared_error(y_teste,previsoes).round(4) #mais proximo de zero, melhor\n",
    "REQM  = np.sqrt(EQM).round(4) #calcula a distancia de um ponto em relação a linha, logo verifica a concentração dos dados proximo a linha ajustada\n",
    "print('O valor de R² para esse modelo XGBoost Otimizado é {}'.format(R2.round(4)))\n",
    "print('O valor de MAE para esse modelo XGboost Otimizado é {}'.format(R2.round(4)))\n",
    "print('O valor de EQM para esse modelo XGBoost Otimizado é {}'.format(EQM))\n",
    "print('O valor de REQM para esse modelo XGBoost Otimizado é {}'.format(REQM))"
   ]
  },
  {
   "cell_type": "code",
   "execution_count": null,
   "id": "69764bbf-c4ff-41b0-919c-2eb35af9b9c9",
   "metadata": {},
   "outputs": [],
   "source": [
    "from sklearn.metrics import mean_absolute_error, mean_squared_error\n",
    "mae = mean_absolute_error(y_teste, previsoes)\n",
    "mse = mean_squared_error(y_teste, previsoes)\n",
    "print('MAE = ', mae, '\\nMSE = ', mse)"
   ]
  }
 ],
 "metadata": {
  "instance_type": "ml.t3.medium",
  "kernelspec": {
   "display_name": "Python 3 (Data Science)",
   "language": "python",
   "name": "python3__SAGEMAKER_INTERNAL__arn:aws:sagemaker:sa-east-1:782484402741:image/datascience-1.0"
  },
  "language_info": {
   "codemirror_mode": {
    "name": "ipython",
    "version": 3
   },
   "file_extension": ".py",
   "mimetype": "text/x-python",
   "name": "python",
   "nbconvert_exporter": "python",
   "pygments_lexer": "ipython3",
   "version": "3.7.10"
  }
 },
 "nbformat": 4,
 "nbformat_minor": 5
}
